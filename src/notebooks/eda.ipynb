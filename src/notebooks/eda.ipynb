{
 "cells": [
  {
   "cell_type": "code",
   "execution_count": 1,
   "metadata": {},
   "outputs": [
    {
     "name": "stdout",
     "output_type": "stream",
     "text": [
      "/projects/lungbox\n"
     ]
    }
   ],
   "source": [
    "%cd '/projects/lungbox'"
   ]
  },
  {
   "cell_type": "code",
   "execution_count": 2,
   "metadata": {},
   "outputs": [],
   "source": [
    "import os\n",
    "import re\n",
    "\n",
    "import boto3\n",
    "import botocore\n",
    "from io import BytesIO\n",
    "\n",
    "import tensorflow as tf\n",
    "import numpy as np\n",
    "import pandas as pd\n",
    "\n",
    "import pydicom\n",
    "import gdcm\n",
    "import pylab"
   ]
  },
  {
   "cell_type": "code",
   "execution_count": 3,
   "metadata": {},
   "outputs": [],
   "source": [
    "s3_client = boto3.client('s3')      # low-level functional API\n",
    "s3_resource = boto3.resource('s3')  # higher-level OOO API\n",
    "\n",
    "S3_BUCKET_NAME = 'lungbox'\n",
    "os.environ['AWS_REGION']='us-west-2'\n",
    "\n",
    "S3_CLASS_INFO_KEY = 'data/raw/stage_1_detailed_class_info.csv'\n",
    "S3_TRAIN_BOX_KEY = 'data/raw/stage_1_train_labels.csv'\n",
    "S3_CLASS_INFO_PATH = 's3://' + S3_BUCKET_NAME + '/' + S3_CLASS_INFO_KEY\n",
    "S3_TRAIN_BOX_PATH = 's3://' + S3_BUCKET_NAME + '/' + S3_TRAIN_BOX_KEY\n",
    "\n",
    "S3_STAGE1_TRAIN_IMAGE_DIR = 'data/raw/stage_1_train_images'\n",
    "S3_STAGE1_TEST_IMAGE_DIR = 'data/raw/stage_1_test_images'"
   ]
  },
  {
   "cell_type": "code",
   "execution_count": 4,
   "metadata": {},
   "outputs": [
    {
     "name": "stdout",
     "output_type": "stream",
     "text": [
      "26688\n"
     ]
    }
   ],
   "source": [
    "obj_paths = []\n",
    "for obj in s3_resource.Bucket(name=S3_BUCKET_NAME).objects.all():\n",
    "    obj_paths.append(os.path.join(obj.bucket_name, obj.key))\n",
    "print(len(obj_paths))"
   ]
  },
  {
   "cell_type": "code",
   "execution_count": 5,
   "metadata": {},
   "outputs": [],
   "source": [
    "# Check that all images have been uploaded\n",
    "# TODO: Not efficient. Find way not to do this in a loop.\n",
    "image_df = pd.DataFrame(columns=['path', 'subdir', 'patient_id'])\n",
    "for obj in s3_resource.Bucket(name=S3_BUCKET_NAME).objects.all():\n",
    "    path = os.path.join(obj.bucket_name, obj.key)\n",
    "    if path.endswith('.dcm'):\n",
    "        path_parts = path.split('/')\n",
    "        image_df = image_df.append({'path': path,\n",
    "                         'subdir': path_parts[3].split('_')[2], # either 'train' or 'test'\n",
    "                         'patient_id': path_parts[-1].split('.')[0]},\n",
    "                        ignore_index=True)"
   ]
  },
  {
   "cell_type": "code",
   "execution_count": 6,
   "metadata": {},
   "outputs": [
    {
     "data": {
      "text/html": [
       "<div>\n",
       "<style scoped>\n",
       "    .dataframe tbody tr th:only-of-type {\n",
       "        vertical-align: middle;\n",
       "    }\n",
       "\n",
       "    .dataframe tbody tr th {\n",
       "        vertical-align: top;\n",
       "    }\n",
       "\n",
       "    .dataframe thead th {\n",
       "        text-align: right;\n",
       "    }\n",
       "</style>\n",
       "<table border=\"1\" class=\"dataframe\">\n",
       "  <thead>\n",
       "    <tr style=\"text-align: right;\">\n",
       "      <th></th>\n",
       "      <th>path</th>\n",
       "      <th>subdir</th>\n",
       "      <th>patient_id</th>\n",
       "    </tr>\n",
       "  </thead>\n",
       "  <tbody>\n",
       "    <tr>\n",
       "      <th>count</th>\n",
       "      <td>26684</td>\n",
       "      <td>26684</td>\n",
       "      <td>26684</td>\n",
       "    </tr>\n",
       "    <tr>\n",
       "      <th>unique</th>\n",
       "      <td>26684</td>\n",
       "      <td>2</td>\n",
       "      <td>26684</td>\n",
       "    </tr>\n",
       "    <tr>\n",
       "      <th>top</th>\n",
       "      <td>lungbox/data/raw/stage_1_train_images/7ff87976...</td>\n",
       "      <td>train</td>\n",
       "      <td>85a307fc-6a0c-4dd7-9402-7950496bb911</td>\n",
       "    </tr>\n",
       "    <tr>\n",
       "      <th>freq</th>\n",
       "      <td>1</td>\n",
       "      <td>25684</td>\n",
       "      <td>1</td>\n",
       "    </tr>\n",
       "  </tbody>\n",
       "</table>\n",
       "</div>"
      ],
      "text/plain": [
       "                                                     path subdir  \\\n",
       "count                                               26684  26684   \n",
       "unique                                              26684      2   \n",
       "top     lungbox/data/raw/stage_1_train_images/7ff87976...  train   \n",
       "freq                                                    1  25684   \n",
       "\n",
       "                                  patient_id  \n",
       "count                                  26684  \n",
       "unique                                 26684  \n",
       "top     85a307fc-6a0c-4dd7-9402-7950496bb911  \n",
       "freq                                       1  "
      ]
     },
     "execution_count": 6,
     "metadata": {},
     "output_type": "execute_result"
    }
   ],
   "source": [
    "image_df.describe()"
   ]
  },
  {
   "cell_type": "code",
   "execution_count": 7,
   "metadata": {},
   "outputs": [
    {
     "data": {
      "text/html": [
       "<div>\n",
       "<style scoped>\n",
       "    .dataframe tbody tr th:only-of-type {\n",
       "        vertical-align: middle;\n",
       "    }\n",
       "\n",
       "    .dataframe tbody tr th {\n",
       "        vertical-align: top;\n",
       "    }\n",
       "\n",
       "    .dataframe thead th {\n",
       "        text-align: right;\n",
       "    }\n",
       "</style>\n",
       "<table border=\"1\" class=\"dataframe\">\n",
       "  <thead>\n",
       "    <tr style=\"text-align: right;\">\n",
       "      <th></th>\n",
       "      <th>path</th>\n",
       "      <th>subdir</th>\n",
       "      <th>patient_id</th>\n",
       "    </tr>\n",
       "  </thead>\n",
       "  <tbody>\n",
       "    <tr>\n",
       "      <th>0</th>\n",
       "      <td>lungbox/data/raw/stage_1_test_images/000924cf-...</td>\n",
       "      <td>test</td>\n",
       "      <td>000924cf-0f8d-42bd-9158-1af53881a557</td>\n",
       "    </tr>\n",
       "    <tr>\n",
       "      <th>1</th>\n",
       "      <td>lungbox/data/raw/stage_1_test_images/000db696-...</td>\n",
       "      <td>test</td>\n",
       "      <td>000db696-cf54-4385-b10b-6b16fbb3f985</td>\n",
       "    </tr>\n",
       "    <tr>\n",
       "      <th>2</th>\n",
       "      <td>lungbox/data/raw/stage_1_test_images/000fe35a-...</td>\n",
       "      <td>test</td>\n",
       "      <td>000fe35a-2649-43d4-b027-e67796d412e0</td>\n",
       "    </tr>\n",
       "    <tr>\n",
       "      <th>3</th>\n",
       "      <td>lungbox/data/raw/stage_1_test_images/001031d9-...</td>\n",
       "      <td>test</td>\n",
       "      <td>001031d9-f904-4a23-b3e5-2c088acd19c6</td>\n",
       "    </tr>\n",
       "    <tr>\n",
       "      <th>4</th>\n",
       "      <td>lungbox/data/raw/stage_1_test_images/0010f549-...</td>\n",
       "      <td>test</td>\n",
       "      <td>0010f549-b242-4e94-87a8-57d79de215fc</td>\n",
       "    </tr>\n",
       "  </tbody>\n",
       "</table>\n",
       "</div>"
      ],
      "text/plain": [
       "                                                path subdir  \\\n",
       "0  lungbox/data/raw/stage_1_test_images/000924cf-...   test   \n",
       "1  lungbox/data/raw/stage_1_test_images/000db696-...   test   \n",
       "2  lungbox/data/raw/stage_1_test_images/000fe35a-...   test   \n",
       "3  lungbox/data/raw/stage_1_test_images/001031d9-...   test   \n",
       "4  lungbox/data/raw/stage_1_test_images/0010f549-...   test   \n",
       "\n",
       "                             patient_id  \n",
       "0  000924cf-0f8d-42bd-9158-1af53881a557  \n",
       "1  000db696-cf54-4385-b10b-6b16fbb3f985  \n",
       "2  000fe35a-2649-43d4-b027-e67796d412e0  \n",
       "3  001031d9-f904-4a23-b3e5-2c088acd19c6  \n",
       "4  0010f549-b242-4e94-87a8-57d79de215fc  "
      ]
     },
     "execution_count": 7,
     "metadata": {},
     "output_type": "execute_result"
    }
   ],
   "source": [
    "image_df.head()"
   ]
  },
  {
   "cell_type": "code",
   "execution_count": 8,
   "metadata": {},
   "outputs": [],
   "source": [
    "def read_s3_df(bucket_name, file_key):\n",
    "    try:\n",
    "        obj = s3_client.get_object(Bucket=bucket_name, Key=file_key)\n",
    "        return pd.read_csv(obj['Body'])\n",
    "    except botocore.exceptions.ClientError as e:\n",
    "        if e.response['Error']['Code'] == \"404\":\n",
    "            print(\"The object does not exist.\")\n",
    "        else:\n",
    "            raise"
   ]
  },
  {
   "cell_type": "code",
   "execution_count": 9,
   "metadata": {},
   "outputs": [
    {
     "name": "stdout",
     "output_type": "stream",
     "text": [
      "                              patientId                         class\n",
      "0  0004cfab-14fd-4e49-80ba-63a80b6bddd6  No Lung Opacity / Not Normal\n",
      "1  00313ee0-9eaa-42f4-b0ab-c148ed3241cd  No Lung Opacity / Not Normal\n",
      "2  00322d4d-1c29-4943-afc9-b6754be640eb  No Lung Opacity / Not Normal\n",
      "3  003d8fa0-6bf1-40ed-b54c-ac657f8495c5                        Normal\n",
      "4  00436515-870c-4b36-a041-de91049b9ab4                  Lung Opacity\n",
      "5  00436515-870c-4b36-a041-de91049b9ab4                  Lung Opacity\n",
      "6  00569f44-917d-4c86-a842-81832af98c30  No Lung Opacity / Not Normal\n",
      "7  006cec2e-6ce2-4549-bffa-eadfcd1e9970  No Lung Opacity / Not Normal\n",
      "8  00704310-78a8-4b38-8475-49f4573b2dbb                  Lung Opacity\n",
      "9  00704310-78a8-4b38-8475-49f4573b2dbb                  Lung Opacity\n",
      "                              patientId      x      y  width  height  Target\n",
      "0  0004cfab-14fd-4e49-80ba-63a80b6bddd6    NaN    NaN    NaN     NaN       0\n",
      "1  00313ee0-9eaa-42f4-b0ab-c148ed3241cd    NaN    NaN    NaN     NaN       0\n",
      "2  00322d4d-1c29-4943-afc9-b6754be640eb    NaN    NaN    NaN     NaN       0\n",
      "3  003d8fa0-6bf1-40ed-b54c-ac657f8495c5    NaN    NaN    NaN     NaN       0\n",
      "4  00436515-870c-4b36-a041-de91049b9ab4  264.0  152.0  213.0   379.0       1\n",
      "5  00436515-870c-4b36-a041-de91049b9ab4  562.0  152.0  256.0   453.0       1\n",
      "6  00569f44-917d-4c86-a842-81832af98c30    NaN    NaN    NaN     NaN       0\n",
      "7  006cec2e-6ce2-4549-bffa-eadfcd1e9970    NaN    NaN    NaN     NaN       0\n",
      "8  00704310-78a8-4b38-8475-49f4573b2dbb  323.0  577.0  160.0   104.0       1\n",
      "9  00704310-78a8-4b38-8475-49f4573b2dbb  695.0  575.0  162.0   137.0       1\n"
     ]
    }
   ],
   "source": [
    "class_label_df = read_s3_df(bucket_name=S3_BUCKET_NAME, file_key=S3_CLASS_INFO_KEY)\n",
    "train_box_df = read_s3_df(bucket_name=S3_BUCKET_NAME, file_key=S3_TRAIN_BOX_KEY)\n",
    "print(class_label_df.iloc[:10, ])\n",
    "print(train_box_df.iloc[:10, ])"
   ]
  },
  {
   "cell_type": "code",
   "execution_count": 10,
   "metadata": {},
   "outputs": [
    {
     "name": "stdout",
     "output_type": "stream",
     "text": [
      "patientId    00436515-870c-4b36-a041-de91049b9ab4\n",
      "x                                             264\n",
      "y                                             152\n",
      "width                                         213\n",
      "height                                        379\n",
      "Target                                          1\n",
      "Name: 4, dtype: object\n",
      "None\n",
      "00436515-870c-4b36-a041-de91049b9ab4\n"
     ]
    }
   ],
   "source": [
    "# patient_id = train_boxes_df['patientId'][0]\n",
    "patient_0 = train_box_df.loc[(train_box_df['Target'] != 0)].iloc[0]\n",
    "print(print(patient_0))\n",
    "print(patient_0['patientId'])"
   ]
  },
  {
   "cell_type": "code",
   "execution_count": 11,
   "metadata": {},
   "outputs": [
    {
     "name": "stdout",
     "output_type": "stream",
     "text": [
      "data/raw/stage_1_train_images/00436515-870c-4b36-a041-de91049b9ab4.dcm\n"
     ]
    }
   ],
   "source": [
    "print(S3_STAGE1_TRAIN_IMAGE_DIR + '/%s.dcm' %  patient_0['patientId'])\n",
    "obj = s3_client.get_object(Bucket=S3_BUCKET_NAME,\n",
    "                           Key=S3_STAGE1_TRAIN_IMAGE_DIR + '/%s.dcm' %  patient_0['patientId'])\n",
    "dcm_data = pydicom.read_file(BytesIO(obj['Body'].read()))"
   ]
  },
  {
   "cell_type": "code",
   "execution_count": 12,
   "metadata": {},
   "outputs": [
    {
     "name": "stdout",
     "output_type": "stream",
     "text": [
      "(0008, 0005) Specific Character Set              CS: 'ISO_IR 100'\n",
      "(0008, 0016) SOP Class UID                       UI: Secondary Capture Image Storage\n",
      "(0008, 0018) SOP Instance UID                    UI: 1.2.276.0.7230010.3.1.4.8323329.6379.1517874325.469569\n",
      "(0008, 0020) Study Date                          DA: '19010101'\n",
      "(0008, 0030) Study Time                          TM: '000000.00'\n",
      "(0008, 0050) Accession Number                    SH: ''\n",
      "(0008, 0060) Modality                            CS: 'CR'\n",
      "(0008, 0064) Conversion Type                     CS: 'WSD'\n",
      "(0008, 0090) Referring Physician's Name          PN: ''\n",
      "(0008, 103e) Series Description                  LO: 'view: AP'\n",
      "(0010, 0010) Patient's Name                      PN: '00436515-870c-4b36-a041-de91049b9ab4'\n",
      "(0010, 0020) Patient ID                          LO: '00436515-870c-4b36-a041-de91049b9ab4'\n",
      "(0010, 0030) Patient's Birth Date                DA: ''\n",
      "(0010, 0040) Patient's Sex                       CS: 'F'\n",
      "(0010, 1010) Patient's Age                       AS: '32'\n",
      "(0018, 0015) Body Part Examined                  CS: 'CHEST'\n",
      "(0018, 5101) View Position                       CS: 'AP'\n",
      "(0020, 000d) Study Instance UID                  UI: 1.2.276.0.7230010.3.1.2.8323329.6379.1517874325.469568\n",
      "(0020, 000e) Series Instance UID                 UI: 1.2.276.0.7230010.3.1.3.8323329.6379.1517874325.469567\n",
      "(0020, 0010) Study ID                            SH: ''\n",
      "(0020, 0011) Series Number                       IS: '1'\n",
      "(0020, 0013) Instance Number                     IS: '1'\n",
      "(0020, 0020) Patient Orientation                 CS: ''\n",
      "(0028, 0002) Samples per Pixel                   US: 1\n",
      "(0028, 0004) Photometric Interpretation          CS: 'MONOCHROME2'\n",
      "(0028, 0010) Rows                                US: 1024\n",
      "(0028, 0011) Columns                             US: 1024\n",
      "(0028, 0030) Pixel Spacing                       DS: ['0.139', '0.139']\n",
      "(0028, 0100) Bits Allocated                      US: 8\n",
      "(0028, 0101) Bits Stored                         US: 8\n",
      "(0028, 0102) High Bit                            US: 7\n",
      "(0028, 0103) Pixel Representation                US: 0\n",
      "(0028, 2110) Lossy Image Compression             CS: '01'\n",
      "(0028, 2114) Lossy Image Compression Method      CS: 'ISO_10918_1'\n",
      "(7fe0, 0010) Pixel Data                          OB: Array of 119382 bytes\n"
     ]
    }
   ],
   "source": [
    "print(dcm_data)"
   ]
  },
  {
   "cell_type": "code",
   "execution_count": 13,
   "metadata": {},
   "outputs": [
    {
     "name": "stdout",
     "output_type": "stream",
     "text": [
      "<class 'numpy.ndarray'>\n",
      "uint8\n",
      "(1024, 1024)\n"
     ]
    }
   ],
   "source": [
    "im = dcm_data.pixel_array\n",
    "print(type(im))\n",
    "print(im.dtype) # downsampled to 256 grayscale values\n",
    "print(im.shape) # resized from 2000x2000"
   ]
  },
  {
   "cell_type": "code",
   "execution_count": 14,
   "metadata": {},
   "outputs": [
    {
     "data": {
      "text/plain": [
       "(-0.5, 1023.5, 1023.5, -0.5)"
      ]
     },
     "execution_count": 14,
     "metadata": {},
     "output_type": "execute_result"
    },
    {
     "data": {
      "image/png": "[encoded data removed]",
      "text/plain": [
       "<Figure size 432x288 with 1 Axes>"
      ]
     },
     "metadata": {
      "needs_background": "light"
     },
     "output_type": "display_data"
    }
   ],
   "source": [
    "pylab.imshow(im, cmap=pylab.cm.gist_gray)\n",
    "pylab.axis('off')"
   ]
  },
  {
   "cell_type": "code",
   "execution_count": 15,
   "metadata": {},
   "outputs": [],
   "source": [
    "def parse_data(train_box_df, train_image_dirpath):\n",
    "    \"\"\"\n",
    "    Method to read a CSV file (Pandas dataframe) and parse the \n",
    "    data into the following nested dictionary:\n",
    "\n",
    "      parsed = {\n",
    "        \n",
    "        'patientId-00': {\n",
    "            'dicom': path/to/dicom/file,\n",
    "            'label': either 0 or 1 for normal or pnuemonia, \n",
    "            'boxes': list of box(es)\n",
    "        },\n",
    "        'patientId-01': {\n",
    "            'dicom': path/to/dicom/file,\n",
    "            'label': either 0 or 1 for normal or pnuemonia, \n",
    "            'boxes': list of box(es)\n",
    "        }, ...\n",
    "\n",
    "      }\n",
    "    \n",
    "    References:\n",
    "    * Exploratory Data Analysis, by Peter Chang, MD.\n",
    "        - Available at https://www.kaggle.com/peterchang77/exploratory-data-analysis/notebook\n",
    "        - Retrieved 2018-09-19\n",
    "    \"\"\"\n",
    "    # Define lambda to extract coords in list [y, x, height, width]\n",
    "    extract_box = lambda row: [row['y'], row['x'], row['height'], row['width']]\n",
    "\n",
    "    parsed = {}\n",
    "    for n, row in train_box_df.iterrows():\n",
    "        # Initialize patient entry into parsed \n",
    "        pid = row['patientId']\n",
    "        if pid not in parsed:\n",
    "            parsed[pid] = {\n",
    "                'dicom_s3_key': train_image_dirpath + '%s.dcm' % pid,\n",
    "                'label': row['Target'],\n",
    "                'boxes': []}\n",
    "\n",
    "        # Add box if opacity is present\n",
    "        if parsed[pid]['label'] == 1:\n",
    "            parsed[pid]['boxes'].append(extract_box(row))\n",
    "\n",
    "    return parsed\n",
    "\n",
    "def get_s3_dcm(patient_id):\n",
    "    obj = s3_client.get_object(Bucket=S3_BUCKET_NAME,\n",
    "                               Key=S3_STAGE1_TRAIN_IMAGE_DIR + '/%s.dcm' % patient_id)\n",
    "    return pydicom.read_file(BytesIO(obj['Body'].read()))\n",
    "\n",
    "def draw(parsed_df, patient_id):\n",
    "    \"\"\"\n",
    "    Method to draw single patient with bounding box(es) if present.\n",
    "    \n",
    "    References:\n",
    "    * Exploratory Data Analysis, by Peter Chang, MD.\n",
    "        - Available at https://www.kaggle.com/peterchang77/exploratory-data-analysis/notebook\n",
    "        - Retrieved 2018-09-19\n",
    "    \"\"\"\n",
    "    d = get_s3_dcm(patient_id)\n",
    "    im = d.pixel_array\n",
    "\n",
    "    # Convert from single-channel grayscale to 3-channel RGB\n",
    "    im = np.stack([im] * 3, axis=2)\n",
    "\n",
    "    # Add boxes with random color if present\n",
    "    for box in parsed_df[patient_id]['boxes']:\n",
    "        rgb = np.floor(np.random.rand(3) * 256).astype('int')\n",
    "        im = overlay_box(im=im, box=box, rgb=rgb, stroke=6)\n",
    "\n",
    "    pylab.imshow(im, cmap=pylab.cm.gist_gray)\n",
    "    pylab.axis('off')\n",
    "\n",
    "def overlay_box(im, box, rgb, stroke=1):\n",
    "    \"\"\"\n",
    "    Method to overlay single box on image.\n",
    "    \n",
    "    References:\n",
    "    * Exploratory Data Analysis, by Peter Chang, MD.\n",
    "        - Available at https://www.kaggle.com/peterchang77/exploratory-data-analysis/notebook\n",
    "        - Retrieved 2018-09-19\n",
    "    \"\"\"\n",
    "    # Convert coordinates to integers\n",
    "    box = [int(b) for b in box]\n",
    "    \n",
    "    # Extract coordinates\n",
    "    y1, x1, height, width = box\n",
    "    y2 = y1 + height\n",
    "    x2 = x1 + width\n",
    "\n",
    "    im[y1:y1 + stroke, x1:x2] = rgb\n",
    "    im[y2:y2 + stroke, x1:x2] = rgb\n",
    "    im[y1:y2, x1:x1 + stroke] = rgb\n",
    "    im[y1:y2, x2:x2 + stroke] = rgb\n",
    "\n",
    "    return im"
   ]
  },
  {
   "cell_type": "code",
   "execution_count": 16,
   "metadata": {},
   "outputs": [],
   "source": [
    "parsed_df = parse_data(train_box_df=train_box_df,\n",
    "                       train_image_dirpath=S3_STAGE1_TRAIN_IMAGE_DIR)"
   ]
  },
  {
   "cell_type": "code",
   "execution_count": 17,
   "metadata": {},
   "outputs": [
    {
     "name": "stdout",
     "output_type": "stream",
     "text": [
      "{'dicom_s3_key': 'data/raw/stage_1_train_images0004cfab-14fd-4e49-80ba-63a80b6bddd6.dcm', 'label': 0, 'boxes': []}\n",
      "{'dicom_s3_key': 'data/raw/stage_1_train_images00436515-870c-4b36-a041-de91049b9ab4.dcm', 'label': 1, 'boxes': [[152.0, 264.0, 379.0, 213.0], [152.0, 562.0, 453.0, 256.0]]}\n"
     ]
    }
   ],
   "source": [
    "print(parsed_df['0004cfab-14fd-4e49-80ba-63a80b6bddd6'])\n",
    "print(parsed_df['00436515-870c-4b36-a041-de91049b9ab4'])"
   ]
  },
  {
   "cell_type": "code",
   "execution_count": 18,
   "metadata": {},
   "outputs": [
    {
     "data": {
      "image/png": "[encoded data removed]",
      "text/plain": [
       "<Figure size 432x288 with 1 Axes>"
      ]
     },
     "metadata": {
      "needs_background": "light"
     },
     "output_type": "display_data"
    }
   ],
   "source": [
    "draw(parsed_df=parsed_df,\n",
    "     patient_id='00436515-870c-4b36-a041-de91049b9ab4')"
   ]
  },
  {
   "cell_type": "code",
   "execution_count": 19,
   "metadata": {},
   "outputs": [
    {
     "name": "stdout",
     "output_type": "stream",
     "text": [
      "<tensorflow.python.pywrap_tensorflow_internal.FileStatistics; proxy of <Swig Object of type 'tensorflow::FileStatistics *' at 0x7fc2048bec00> >\n"
     ]
    }
   ],
   "source": [
    "# smoke check: S3 files are accessible via TensorFlow\n",
    "from tensorflow.python.lib.io import file_io\n",
    "print(file_io.stat(S3_CLASS_INFO_PATH))"
   ]
  },
  {
   "cell_type": "code",
   "execution_count": 23,
   "metadata": {},
   "outputs": [
    {
     "name": "stdout",
     "output_type": "stream",
     "text": [
      "<TFRecordDataset shapes: (), types: tf.string>\n"
     ]
    }
   ],
   "source": [
    "filenames = [\"s3://lungbox/raw/stage_1_test_images/000924cf-0f8d-42bd-9158-1af53881a557.dcm\",\n",
    "             \"s3://lungbox/raw/stage_1_test_images/000db696-cf54-4385-b10b-6b16fbb3f985.dcm\",\n",
    "             \"s3://lungbox/raw/stage_1_test_images/000fe35a-2649-43d4-b027-e67796d412e0.dcm\",\n",
    "             \"s3://lungbox/raw/stage_1_test_images/001031d9-f904-4a23-b3e5-2c088acd19c6.dcm\",\n",
    "             \"s3://lungbox/raw/stage_1_test_images/0010f549-b242-4e94-87a8-57d79de215fc.dcm\"]\n",
    "dataset = tf.data.TFRecordDataset(filenames)\n",
    "print(dataset)"
   ]
  },
  {
   "cell_type": "code",
   "execution_count": null,
   "metadata": {},
   "outputs": [],
   "source": []
  }
 ],
 "metadata": {
  "kernelspec": {
   "display_name": "Environment (conda_tensorflow_p36)",
   "language": "python",
   "name": "conda_tensorflow_p36"
  },
  "language_info": {
   "codemirror_mode": {
    "name": "ipython",
    "version": 3
   },
   "file_extension": ".py",
   "mimetype": "text/x-python",
   "name": "python",
   "nbconvert_exporter": "python",
   "pygments_lexer": "ipython3",
   "version": "3.6.6"
  }
 },
 "nbformat": 4,
 "nbformat_minor": 2
}
